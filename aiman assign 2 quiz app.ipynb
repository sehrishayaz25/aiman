{
 "cells": [
  {
   "cell_type": "code",
   "execution_count": null,
   "metadata": {},
   "outputs": [],
   "source": [
    "#quiz app\n",
    "class Question:\n",
    "     def __init__(self, prompt, answer):\n",
    "          self.prompt = prompt\n",
    "          self.answer = answer\n",
    "question_prompts = [\n",
    "     \"What is the color of sky?\\n(a) 'blue'\\n(b)'green'\",'\\n'\n",
    "     \"What is the color of banana?\\n(a) 'green'\\n(b)'yellow'\",'\\n'\n",
    "    \"What is the color of tomato?\\n (a) 'red'\\n (b) 'purple'\", '\\n'\n",
    "    \"What is the color of grass?\\n (a) 'green'\\n (b) 'orange'\", '\\n'\n",
    "]\n",
    "name = input(\"Please enter your name: \").title()\n",
    "questions = [\n",
    "     Question(question_prompts[0], \"a\"),\n",
    "     Question(question_prompts[1], \"b\"),\n",
    "    Question(question_prompts[2], \"a\"),\n",
    "    Question(question_prompts[3], \"a\"),\n",
    "            ]\n",
    "def run_quiz(questions):\n",
    "     score = 0\n",
    "     for question in questions:\n",
    "          answer = input(question.prompt)\n",
    "          if answer == question.answer:\n",
    "               score += 1\n",
    "     print(\"\\n{0}, you scored {1} out of {2}.\".format(name, score, len(questions)))\n",
    "run_quiz(questions)"
   ]
  },
  {
   "cell_type": "code",
   "execution_count": null,
   "metadata": {},
   "outputs": [],
   "source": []
  }
 ],
 "metadata": {
  "kernelspec": {
   "display_name": "Python 3",
   "language": "python",
   "name": "python3"
  },
  "language_info": {
   "codemirror_mode": {
    "name": "ipython",
    "version": 3
   },
   "file_extension": ".py",
   "mimetype": "text/x-python",
   "name": "python",
   "nbconvert_exporter": "python",
   "pygments_lexer": "ipython3",
   "version": "3.8.3"
  }
 },
 "nbformat": 4,
 "nbformat_minor": 4
}
